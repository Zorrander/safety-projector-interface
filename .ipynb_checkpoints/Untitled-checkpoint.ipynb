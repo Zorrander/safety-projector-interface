{
 "cells": [
  {
   "cell_type": "code",
   "execution_count": 1,
   "id": "64ffcc5d-6f0e-4f05-9d59-93cdb67d1671",
   "metadata": {},
   "outputs": [
    {
     "name": "stdout",
     "output_type": "stream",
     "text": [
      "Requirement already satisfied: docker in /home/odin3/.local/lib/python3.8/site-packages (7.1.0)\n",
      "Requirement already satisfied: requests>=2.26.0 in /home/odin3/.local/lib/python3.8/site-packages (from docker) (2.32.3)\n",
      "Requirement already satisfied: urllib3>=1.26.0 in /home/odin3/.local/lib/python3.8/site-packages (from docker) (2.2.3)\n",
      "Requirement already satisfied: idna<4,>=2.5 in /usr/lib/python3/dist-packages (from requests>=2.26.0->docker) (2.8)\n",
      "Requirement already satisfied: charset-normalizer<4,>=2 in /home/odin3/.local/lib/python3.8/site-packages (from requests>=2.26.0->docker) (3.3.2)\n",
      "Requirement already satisfied: certifi>=2017.4.17 in /usr/lib/python3/dist-packages (from requests>=2.26.0->docker) (2019.11.28)\n"
     ]
    }
   ],
   "source": [
    "!pip install docker"
   ]
  },
  {
   "cell_type": "code",
   "execution_count": 2,
   "id": "2a9ad709-baee-49dc-bab2-39ad0d8d21ef",
   "metadata": {},
   "outputs": [
    {
     "name": "stdout",
     "output_type": "stream",
     "text": [
      "Container Name: odin_openflow_execution, Status: running\n",
      "Container Name: odin_kr_execution, Status: running\n"
     ]
    }
   ],
   "source": [
    "import docker\n",
    "\n",
    "client = docker.from_env()\n",
    "\n",
    "containers = client.containers.list()\n",
    "\n",
    "for container in containers:\n",
    "    print(f\"Container Name: {container.name}, Status: {container.status}\")"
   ]
  },
  {
   "cell_type": "code",
   "execution_count": 3,
   "id": "67d8f8ca-7d83-46da-819f-fe10566f42e4",
   "metadata": {},
   "outputs": [],
   "source": [
    "import time\n",
    "import rospy\n",
    "import actionlib\n",
    "from geometry_msgs.msg import Point32\n",
    "\n",
    "from integration.msg import *"
   ]
  },
  {
   "cell_type": "code",
   "execution_count": 4,
   "id": "c35f3eef-9c92-4083-9638-6d4bc463ece7",
   "metadata": {},
   "outputs": [
    {
     "name": "stdout",
     "output_type": "stream",
     "text": [
      "... logging to /home/odin3/.ros/log/eeb196d4-84ab-11ef-a288-b9d2761ef308/roslaunch-pop-os-463692.log\n",
      "\u001b[1mstarted roslaunch server http://pop-os:39829/\u001b[0m\n",
      "\n",
      "SUMMARY\n",
      "========\n",
      "\n",
      "PARAMETERS\n",
      " * /azure_kinect_ros_driver/body_tracking_enabled: False\n",
      " * /azure_kinect_ros_driver/body_tracking_smoothing_factor: 0.0\n",
      " * /azure_kinect_ros_driver/color_enabled: True\n",
      " * /azure_kinect_ros_driver/color_format: bgra\n",
      " * /azure_kinect_ros_driver/color_resolution: 1080P\n",
      " * /azure_kinect_ros_driver/depth_enabled: True\n",
      " * /azure_kinect_ros_driver/depth_mode: WFOV_UNBINNED\n",
      " * /azure_kinect_ros_driver/depth_unit: 16UC1\n",
      " * /azure_kinect_ros_driver/fps: 5\n",
      " * /azure_kinect_ros_driver/imu_rate_target: 0\n",
      " * /azure_kinect_ros_driver/ir_mono8_scaling_factor: 1.0\n",
      " * /azure_kinect_ros_driver/point_cloud: False\n",
      " * /azure_kinect_ros_driver/point_cloud_in_depth_frame: False\n",
      " * /azure_kinect_ros_driver/recording_file: \n",
      " * /azure_kinect_ros_driver/recording_loop_enabled: False\n",
      " * /azure_kinect_ros_driver/rescale_ir_to_mono8: False\n",
      " * /azure_kinect_ros_driver/rgb_point_cloud: False\n",
      " * /azure_kinect_ros_driver/sensor_sn: \n",
      " * /azure_kinect_ros_driver/subordinate_delay_off_master_usec: 0\n",
      " * /azure_kinect_ros_driver/tf_prefix: \n",
      " * /azure_kinect_ros_driver/wired_sync_mode: 0\n",
      " * /book_operator_static_border_server: /execution/projec...\n",
      " * /book_robot_static_border_server: /execution/projec...\n",
      " * /border_calibration_file: /home/odin3/Deskt...\n",
      " * /border_homography: [-2.15507712, 0.1...\n",
      " * /button_calibration_file: /home/odin3/Deskt...\n",
      " * /button_color_server_name: /execution/projec...\n",
      " * /button_homography: [-2.15507712, 0.1...\n",
      " * /button_projection_server_name: /execution/projec...\n",
      " * /camera_calibration_file: /home/odin3/Deskt...\n",
      " * /camera_frame: rgb_camera_link\n",
      " * /camera_resolution: [1920, 1080]\n",
      " * /cx: 961.0018310546875\n",
      " * /cy: 544.41552734375\n",
      " * /fx: 911.1669921875\n",
      " * /fy: 911.3311157226562\n",
      " * /hand_visualization: False\n",
      " * /instruction_projection_server_name: /execution/projec...\n",
      " * /is_moving: False\n",
      " * /projector_resolution: [1920, 1080]\n",
      " * /release_operator_static_border_server: /execution/projec...\n",
      " * /release_robot_static_border_server: /execution/projec...\n",
      " * /robot_frame: base\n",
      " * /rosdistro: noetic\n",
      " * /rosversion: 1.16.0\n",
      " * /safety_border_server: /execution/projec...\n",
      " * /shelf_height: 0.0\n",
      " * /shiftX: 2560\n",
      " * /unset_projection_server_name: /execution/projec...\n",
      " * /user_interface_server_name: /execution/projec...\n",
      "\n",
      "NODES\n",
      "  /\n",
      "    azure_kinect_ros_driver (azure_kinect_ros_driver/node)\n",
      "    hand_tracker (tuni_whitegoods_perception/hand_tracker.py)\n",
      "    moving_table_tracker (tuni_whitegoods_perception/moving_table_tracker.py)\n",
      "    smart_interface_node (tuni_whitegoods_openflow_interface/smart_interface_node)\n",
      "    transform_camera_point_server (tuni_whitegoods_transformations/transform_camera_point_server)\n",
      "    transform_projector_server (tuni_whitegoods_transformations/transform_projector_point_server)\n",
      "    transform_robot_server (tuni_whitegoods_transformations/transform_robot_point_server)\n",
      "\n",
      "\u001b[1mROS_MASTER_URI=http://192.168.125.202:11311\u001b[0m\n",
      "\u001b[1mprocess[transform_camera_point_server-1]: started with pid [464002]\u001b[0m\n",
      "\u001b[1mprocess[transform_robot_server-2]: started with pid [464003]\u001b[0m\n",
      "\u001b[1mprocess[transform_projector_server-3]: started with pid [464004]\u001b[0m\n",
      "\u001b[1mprocess[smart_interface_node-4]: started with pid [464008]\u001b[0m\n",
      "\u001b[1mprocess[azure_kinect_ros_driver-5]: started with pid [464012]\u001b[0m\n",
      "\u001b[1mprocess[hand_tracker-6]: started with pid [464017]\u001b[0m\n",
      "\u001b[1mprocess[moving_table_tracker-7]: started with pid [464019]\u001b[0m\n",
      "Homography loaded from /home/odin3/Desktop/test_homography.yaml\n",
      "Homography loaded from /home/odin3/Desktop/test_homography.yaml\n"
     ]
    },
    {
     "name": "stderr",
     "output_type": "stream",
     "text": [
      "WARNING: All log messages before absl::InitializeLog() is called are written to STDERR\n",
      "I0000 00:00:1728474441.061171  464017 gl_context_egl.cc:85] Successfully initialized EGL. Major : 1 Minor: 5\n",
      "I0000 00:00:1728474441.102553  464091 gl_context.cc:344] GL version: 3.2 (OpenGL ES 3.2 NVIDIA 510.54), renderer: NVIDIA T1000/PCIe/SSE2\n",
      "INFO: Created TensorFlow Lite XNNPACK delegate for CPU.\n",
      "\u001b[33m[ WARN] [1728474442.142840898]: Camera calibration file /home/odin3/.ros/camera_info/azure_kinect_rgb_000837321712_1080P.yaml not found.\u001b[0m\n",
      "\u001b[33m[ WARN] [1728474442.143025098]: Camera calibration file /home/odin3/.ros/camera_info/azure_kinect_ir_000837321712_WFOV_UNBINNED.yaml not found.\u001b[0m\n",
      "\u001b[33m[ WARN] [1728474442.343903340]: Initializing the device to realtime offset based on wall clock: 1728474442143633576 ns\u001b[0m\n",
      "\u001b[33m[ WARN] [1728474442.994281210]: Initializing or re-initializing the device to realtime offset: 1728474442186615088 ns\u001b[0m\n",
      "\u001b[33m[ WARN] [1728474443.206008493]: Image processing thread is running behind.\n",
      "Expected max loop time: 0.200000000\n",
      "Actual loop time: 0.888896871\n",
      "\u001b[0m\n"
     ]
    }
   ],
   "source": [
    "import roslaunch\n",
    "\n",
    "uuid = roslaunch.rlutil.get_or_generate_uuid(None, False)\n",
    "roslaunch.configure_logging(uuid)\n",
    "cli_args1 = ['tuni_whitegoods', 'hmi.launch']\n",
    "roslaunch_file1 = roslaunch.rlutil.resolve_launch_arguments(cli_args1)[0]\n",
    "launch_files = [roslaunch_file1]\n",
    "parent = roslaunch.parent.ROSLaunchParent(uuid, launch_files)\n",
    "parent.start()"
   ]
  },
  {
   "cell_type": "code",
   "execution_count": 5,
   "id": "59409a2a-95af-4e1d-8354-5ffec99027e0",
   "metadata": {},
   "outputs": [
    {
     "name": "stdout",
     "output_type": "stream",
     "text": [
      "... logging to /home/odin3/.ros/log/eeb196d4-84ab-11ef-a288-b9d2761ef308/roslaunch-pop-os-463692.log\n",
      "\u001b[1mstarted roslaunch server http://pop-os:36645/\u001b[0m\n",
      "\n",
      "SUMMARY\n",
      "========\n",
      "\n",
      "PARAMETERS\n",
      " * /rosdistro: noetic\n",
      " * /rosversion: 1.16.0\n",
      "\n",
      "NODES\n",
      "  /\n",
      "    rgb_to_base (tf2_ros/static_transform_publisher)\n",
      "\n",
      "\u001b[1mROS_MASTER_URI=http://192.168.125.202:11311\u001b[0m\n",
      "\u001b[1mprocess[rgb_to_base-8]: started with pid [465333]\u001b[0m\n"
     ]
    }
   ],
   "source": [
    "import roslaunch\n",
    "\n",
    "uuid = roslaunch.rlutil.get_or_generate_uuid(None, False)\n",
    "roslaunch.configure_logging(uuid)\n",
    "cli_args1 = ['tuni_whitegoods', 'tuni_tf.launch']\n",
    "roslaunch_file1 = roslaunch.rlutil.resolve_launch_arguments(cli_args1)[0]\n",
    "launch_files = [roslaunch_file1]\n",
    "parent = roslaunch.parent.ROSLaunchParent(uuid, launch_files)\n",
    "parent.start()"
   ]
  },
  {
   "cell_type": "code",
   "execution_count": 7,
   "id": "aef7ccf6-1f6b-495e-9be2-5157dc3382dc",
   "metadata": {},
   "outputs": [
    {
     "name": "stdout",
     "output_type": "stream",
     "text": [
      "[INFO] [1728474488.021660]: Loading layout server\n"
     ]
    },
    {
     "data": {
      "text/plain": [
       "True"
      ]
     },
     "execution_count": 7,
     "metadata": {},
     "output_type": "execute_result"
    },
    {
     "name": "stderr",
     "output_type": "stream",
     "text": [
      "\u001b[33m[ WARN] [1728474489.628938119]: Image processing thread is running behind.\n",
      "Expected max loop time: 0.200000000\n",
      "Actual loop time: 0.203406444\n",
      "\u001b[0m\n",
      "\u001b[33m[ WARN] [1728474501.630373745]: Image processing thread is running behind.\n",
      "Expected max loop time: 0.200000000\n",
      "Actual loop time: 0.203038660\n",
      "\u001b[0m\n"
     ]
    }
   ],
   "source": [
    "rospy.init_node('test_static_border')\n",
    "rospy.loginfo(\"Loading layout server\")\n",
    "layout_server_name = \"execution/projector_interface/integration/actions/set_layout_static_borders\"\n",
    "layout_client = actionlib.SimpleActionClient(layout_server_name, SetLayoutStaticBordersAction)\n",
    "layout_client.wait_for_server()\n",
    "\n",
    "layout_goal = SetLayoutStaticBordersGoal()\n",
    "layout_goal.book_adjacent = False\n",
    "layout_goal.request_id = \"09d-d09d9-fgd\"\n",
    "layout_goal.safety_factor = 1.0\n",
    "layout_goal.size_cols = 1\n",
    "layout_goal.size_rows = 1\n",
    "layout_goal.status_booked.r = 1.0\n",
    "layout_goal.status_booked.g = 0.0\n",
    "layout_goal.status_booked.b = 0.0\n",
    "layout_goal.status_booked.a = 0.0\n",
    "layout_goal.status_free.r = 0.0\n",
    "layout_goal.status_free.g = 1.0\n",
    "layout_goal.status_free.b = 0.0\n",
    "layout_goal.status_free.a = 0.0\n",
    "layout_goal.status_operator.r = 0.0\n",
    "layout_goal.status_operator.g = 0.0\n",
    "layout_goal.status_operator.b = 1.0\n",
    "layout_goal.status_operator.a = 0.0\n",
    "layout_client.send_goal(layout_goal)\n",
    "layout_client.wait_for_result()"
   ]
  },
  {
   "cell_type": "code",
   "execution_count": 8,
   "id": "ed99c016-11f6-40fb-8e17-b747e1ab51bd",
   "metadata": {},
   "outputs": [
    {
     "name": "stdout",
     "output_type": "stream",
     "text": [
      "[INFO] [1728474508.640395]: Loading border server\n",
      "Sending border goal.\n"
     ]
    },
    {
     "data": {
      "text/plain": [
       "True"
      ]
     },
     "execution_count": 8,
     "metadata": {},
     "output_type": "execute_result"
    },
    {
     "name": "stderr",
     "output_type": "stream",
     "text": [
      "\u001b[33m[ WARN] [1728474511.636315213]: Image processing thread is running behind.\n",
      "Expected max loop time: 0.200000000\n",
      "Actual loop time: 0.203747083\n",
      "\u001b[0m\n",
      "\u001b[33m[ WARN] [1728474521.837441280]: Image processing thread is running behind.\n",
      "Expected max loop time: 0.200000000\n",
      "Actual loop time: 0.203674135\n",
      "\u001b[0m\n",
      "\u001b[33m[ WARN] [1728474531.839801577]: Image processing thread is running behind.\n",
      "Expected max loop time: 0.200000000\n",
      "Actual loop time: 0.218001813\n",
      "\u001b[0m\n"
     ]
    }
   ],
   "source": [
    "rospy.loginfo(\"Loading border server\")\n",
    "border_server_name = \"/execution/projector_interface/integration/actions/set_safety_border_projection\"\n",
    "border_client = actionlib.SimpleActionClient(border_server_name, SetSafetyBorderProjectionAction)\n",
    "border_client.wait_for_server()\n",
    "\n",
    "\n",
    "border_projection_goal = SetSafetyBorderProjectionGoal()\n",
    "border_projection_goal.request_id = \"2\"\n",
    "border_projection_goal.zone = \"shelf\"\n",
    "border_projection_goal.position_row = 0\n",
    "border_projection_goal.position_col = 1\n",
    "border_projection_goal.border.polygon.points = []\n",
    "border_projection_goal.border.header.frame_id = \"base\"\n",
    "border_projection_goal.border.header.stamp = rospy.Time.now()\n",
    "\n",
    "p = Point32()\n",
    "p2 = Point32()\n",
    "p3 = Point32()\n",
    "p4 = Point32()\n",
    "p.x = 0.5327723191197576\n",
    "p.y = -0.3859754711165183\n",
    "p.z = 0.0\n",
    "border_projection_goal.border.polygon.points.append(p);\n",
    "\n",
    "p2.x = 0.52084058325318\n",
    "p2.y = -0.5911370965189771\n",
    "p2.z = 0.0\n",
    "border_projection_goal.border.polygon.points.append(p2)\n",
    "\n",
    "p3.x = 0.31064085560322285\n",
    "p3.y = -0.5752820995501067\n",
    "p3.z = 0.0\n",
    "border_projection_goal.border.polygon.points.append(p3)\n",
    "\n",
    "p4.x = 0.32227329926039167\n",
    "p4.y = -0.37203207838239905\n",
    "p4.z = 0.0\n",
    "border_projection_goal.border.polygon.points.append(p4)\n",
    "\n",
    "\n",
    "border_projection_goal.border_topic = \"\"\n",
    "border_projection_goal.border_color.r = 0.0\n",
    "border_projection_goal.border_color.g = 1.0\n",
    "border_projection_goal.border_color.b = 0.0\n",
    "border_projection_goal.border_color.a = 0.0\n",
    "border_projection_goal.is_filled = False\n",
    "border_projection_goal.thickness = 1\n",
    "\n",
    "border_projection_goal.track_violations = True;\n",
    "print(\"Sending border goal.\")\n",
    "border_client.send_goal(border_projection_goal)\n",
    "\n",
    "border_client.wait_for_result()"
   ]
  },
  {
   "cell_type": "code",
   "execution_count": null,
   "id": "540aa27b-de50-45c5-9eac-ab3f49c99186",
   "metadata": {},
   "outputs": [],
   "source": []
  }
 ],
 "metadata": {
  "kernelspec": {
   "display_name": "Python 3 (ipykernel)",
   "language": "python",
   "name": "python3"
  },
  "language_info": {
   "codemirror_mode": {
    "name": "ipython",
    "version": 3
   },
   "file_extension": ".py",
   "mimetype": "text/x-python",
   "name": "python",
   "nbconvert_exporter": "python",
   "pygments_lexer": "ipython3",
   "version": "3.8.10"
  }
 },
 "nbformat": 4,
 "nbformat_minor": 5
}
